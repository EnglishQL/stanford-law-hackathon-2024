{
 "cells": [
  {
   "cell_type": "markdown",
   "metadata": {},
   "source": [
    "# Read Data"
   ]
  },
  {
   "cell_type": "code",
   "execution_count": 3,
   "metadata": {},
   "outputs": [],
   "source": [
    "import os\n",
    "import pickle\n",
    "\n",
    "from dotenv import load_dotenv\n",
    "from llama_index.core import SimpleDirectoryReader\n",
    "from llama_parse import LlamaParse\n",
    "import nest_asyncio\n",
    "\n",
    "load_dotenv()\n",
    "nest_asyncio.apply()"
   ]
  },
  {
   "cell_type": "code",
   "execution_count": null,
   "metadata": {},
   "outputs": [],
   "source": [
    "LLAMA_CLOUD_API_KEY = os.getenv(\"LLAMA_CLOUD_API_KEY\")\n",
    "\n",
    "# Do not parse twice. Check if the file is already parsed\n",
    "documents = None\n",
    "if not os.path.exists(\"./parsed-objects/documents.pickle\"):\n",
    "    parser = LlamaParse(\n",
    "        api_key=LLAMA_CLOUD_API_KEY,\n",
    "        result_type=\"text\",\n",
    "        verbose=True,\n",
    "    )\n",
    "\n",
    "    file_extractor = {\".pdf\": parser}\n",
    "    documents = SimpleDirectoryReader(\n",
    "        \"./data\", file_extractor=file_extractor\n",
    "    ).load_data()\n",
    "else:\n",
    "    with open(\"./parsed-objects/documents.pickle\", \"rb\") as f:\n",
    "        documents = pickle.load(f)\n",
    "\n",
    "assert documents is not None, \"Documents are not loaded\""
   ]
  }
 ],
 "metadata": {
  "kernelspec": {
   "display_name": "venv",
   "language": "python",
   "name": "python3"
  },
  "language_info": {
   "codemirror_mode": {
    "name": "ipython",
    "version": 3
   },
   "file_extension": ".py",
   "mimetype": "text/x-python",
   "name": "python",
   "nbconvert_exporter": "python",
   "pygments_lexer": "ipython3",
   "version": "3.12.2"
  }
 },
 "nbformat": 4,
 "nbformat_minor": 2
}
