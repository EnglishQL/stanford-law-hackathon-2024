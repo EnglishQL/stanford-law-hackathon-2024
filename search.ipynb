{
 "cells": [
  {
   "cell_type": "markdown",
   "metadata": {},
   "source": [
    "# Llama-Index Setup"
   ]
  },
  {
   "cell_type": "code",
   "execution_count": 2,
   "metadata": {},
   "outputs": [],
   "source": [
    "import os\n",
    "import pickle\n",
    "\n",
    "from llama_index.llms.openai import OpenAI\n",
    "from llama_index.embeddings.openai import OpenAIEmbedding\n",
    "from llama_index.core.query_engine import CitationQueryEngine\n",
    "from llama_index.core import (\n",
    "    SimpleDirectoryReader,\n",
    "    VectorStoreIndex,\n",
    "    StorageContext,\n",
    "    load_index_from_storage,\n",
    ")\n",
    "from llama_index.core import Settings\n",
    "from dotenv import load_dotenv\n",
    "from llama_parse import LlamaParse\n",
    "import nest_asyncio\n",
    "\n",
    "embed_model = OpenAIEmbedding(model=\"text-embedding-3-small\")\n",
    "llm = OpenAI(model=\"gpt-3.5-turbo-0125\")\n",
    "\n",
    "Settings.llm = llm\n",
    "Settings.embed_model = embed_model"
   ]
  },
  {
   "cell_type": "markdown",
   "metadata": {},
   "source": [
    "# Read Data"
   ]
  },
  {
   "cell_type": "code",
   "execution_count": 3,
   "metadata": {},
   "outputs": [],
   "source": [
    "load_dotenv()\n",
    "nest_asyncio.apply()"
   ]
  },
  {
   "cell_type": "code",
   "execution_count": 23,
   "metadata": {},
   "outputs": [
    {
     "name": "stdout",
     "output_type": "stream",
     "text": [
      "Parsing documents\n",
      "Started parsing the file under job_id bc717ac5-542b-4e06-baf9-41e363548a0e\n",
      "Started parsing the file under job_id 094d1094-fc6b-46e9-9047-df612c9793d1\n",
      "Started parsing the file under job_id 16bee0f8-c980-438d-8941-7be1d5bc7965\n",
      "Started parsing the file under job_id 16ed8372-31ca-49f7-b9b3-5633787ed16e\n",
      "Started parsing the file under job_id ef8bf9c6-e69f-4029-8a3f-ae1f09d65d0a\n",
      "Started parsing the file under job_id 5de8d21a-9f32-4003-8a35-ec7b06c5e6a3\n",
      "Started parsing the file under job_id 8c51f3b3-9590-4424-a6c8-b04198220cf0\n",
      "Started parsing the file under job_id 33730a5c-7505-46c5-8d8f-933d96f392f1\n",
      "Started parsing the file under job_id 92fce70a-8975-4a61-bb81-9d46d326a4f0\n",
      "Started parsing the file under job_id 09d3e2ba-54da-4b80-a208-8287cb3f956a\n",
      "Started parsing the file under job_id 7acc4c6c-e41f-4da6-9f14-3d72a71eadf3\n"
     ]
    }
   ],
   "source": [
    "LLAMA_CLOUD_API_KEY = os.getenv(\"LLAMA_CLOUD_API_KEY\")\n",
    "\n",
    "# Do not parse twice. Check if the file is already parsed\n",
    "documents = None\n",
    "if not os.path.exists(\"./parsed-objects/documents.pickle\"):\n",
    "    print(\"Parsing documents\")\n",
    "    parser = LlamaParse(\n",
    "        api_key=LLAMA_CLOUD_API_KEY,\n",
    "        result_type=\"text\",\n",
    "        verbose=True,\n",
    "    )\n",
    "\n",
    "    file_extractor = {\".pdf\": parser}\n",
    "    documents = SimpleDirectoryReader(\n",
    "        \"./data\", file_extractor=file_extractor\n",
    "    ).load_data()\n",
    "    with open(\"./parsed-objects/documents.pickle\", \"wb\") as f:\n",
    "        pickle.dump(documents, f)\n",
    "else:\n",
    "    print(\"Loading parsed documents from pickle\")\n",
    "    with open(\"./parsed-objects/documents.pickle\", \"rb\") as f:\n",
    "        documents = pickle.load(f)\n",
    "\n",
    "assert documents is not None, \"Documents are not loaded\""
   ]
  },
  {
   "cell_type": "code",
   "execution_count": 4,
   "metadata": {},
   "outputs": [
    {
     "name": "stdout",
     "output_type": "stream",
     "text": [
      "Loading index from storage\n"
     ]
    }
   ],
   "source": [
    "if not os.path.exists(\"./citation\"):\n",
    "    print(\"Building index\")\n",
    "    index = VectorStoreIndex.from_documents(documents)\n",
    "    index.storage_context.persist(persist_dir=\"./citation\")\n",
    "else:\n",
    "    print(\"Loading index from storage\")\n",
    "    index = load_index_from_storage(\n",
    "        StorageContext.from_defaults(persist_dir=\"./citation\")\n",
    "    )"
   ]
  },
  {
   "cell_type": "code",
   "execution_count": 5,
   "metadata": {},
   "outputs": [],
   "source": [
    "# query_engine = CitationQueryEngine.from_args(\n",
    "#     index,\n",
    "#     similarity_top_k=10,\n",
    "#     citation_chunk_size=1024,\n",
    "# )\n",
    "retriever = index.as_retriever()"
   ]
  },
  {
   "cell_type": "code",
   "execution_count": 6,
   "metadata": {},
   "outputs": [],
   "source": [
    "nodes = retriever.retrieve(\"Telephon companies have been sued.\")"
   ]
  },
  {
   "cell_type": "code",
   "execution_count": 9,
   "metadata": {},
   "outputs": [
    {
     "data": {
      "text/plain": [
       "'Case 3:07-cv-01697-MMC  Document 16  Filed 08/31/07    Page 1 of 2\\n2                     E                                 #IR\\n---\\n        Case 3:07-cv-01697-MMC               Document 16      Filed 08/31/07       Page 2 of 2\\n775t#\\n         November 2, 2007                         10:30 a.m.             The parties shall file a joint Case\\n       Management Statement no later than October 26, 2007.\\n                August 31, 2007'"
      ]
     },
     "execution_count": 9,
     "metadata": {},
     "output_type": "execute_result"
    }
   ],
   "source": [
    "nodes[0].text"
   ]
  },
  {
   "cell_type": "code",
   "execution_count": 11,
   "metadata": {},
   "outputs": [
    {
     "data": {
      "text/plain": [
       "'Case 3:07-cv-01697-MMC  Document 16  Filed 08/31/07    Page 1 of 2\\n2                     E                                 #IR\\n---\\n        Case 3:07-cv-01697-MMC               Document 16      Filed 08/31/07       Page 2 of 2\\n775t#\\n         November 2, 2007                         10:30 a.m.             The parties shall file a joint Case\\n       Management Statement no later than October 26, 2007.\\n                August 31, 2007'"
      ]
     },
     "execution_count": 11,
     "metadata": {},
     "output_type": "execute_result"
    }
   ],
   "source": [
    "nodes[0].text"
   ]
  },
  {
   "cell_type": "code",
   "execution_count": 72,
   "metadata": {},
   "outputs": [
    {
     "name": "stdout",
     "output_type": "stream",
     "text": [
      "Case 3:07-cv-01697-ARC          Document 82      Filed 09/17/08     Page 1 of 4\n",
      "                         IN THE UNITED STATES DISTRICT COURT\n",
      "                     FOR THE MIDDLE DISTRICT OF PENNSYLVANIA\n",
      " DEBRA ANN WOODRUFF,                              CIVIL ACTION NO. 3:07-CV-1697\n",
      " Administratrix of the Estate of Jonathan\n",
      " Woodruff, and DEBRA ANN\n",
      " WOODRUFF, individually\n",
      "         Plaintiff,\n",
      "                v.                                (JUDGE CAPUTO)\n",
      " SULLIVAN COUNTY RURAL ELECTRIC\n",
      " COOPERATIVE, INC.,\n",
      " COMMONWEALTH TELEPHONE CO.,\n",
      " COMMONWEALTH TELEPHONE\n",
      " ENTERPRISES, EPIX INTERNET\n",
      " SERVICES, COMMONWEALTH\n",
      " COMMUNICATIONS and HENKELS &\n",
      " McCOY, INC.,\n",
      "         Defendants.                MEMORANDUM ORDER\n",
      "        Plaintiff Debra Ann Woodruff commenced this action by filing a complaint on\n",
      "September 17, 2007.        The Complaint contains claims for common law negligence and\n",
      "wrongful death pursuant to 42 Pa. Cons. Stat. Ann. § 8301 and Pa. R. Civ. P. No 2202(a)\n",
      "and a Survival Action pursuant to 20 Pa. Cons. Stat. Ann. § 3373 and 42 Pa. Cons. Stat.\n",
      "Ann. § 8302 for damages suffered by the Plaintiff’s deceased husband, the Plaintiff, and the\n",
      "decedent’s children.     The Defendants in the action include Sullivan County Rural Electric\n",
      "Cooperative, Inc., Commonwealth Telephone Company (“CTC”), Commonwealth Telephone\n",
      "Enterprises (“CT”), Epix Internet Services (“Epix”), Commonwealth Communications (“CC”,\n",
      "and Henkles & McCoy, Inc..       On November 1, 2007, Whittaker Communications, Inc. and\n",
      "Splice-On Communications were joined as additional defendants.\n",
      "        In November 2007, Defendants CTE, CT, Epix, CC, and Henkles & McCoy filed\n",
      "---\n",
      "      Case 3:07-cv-01697-ARC              Document 82         Filed 09/17/08      Page 2 of 4\n",
      "motions to dismiss the claims against them, or in the alternative dismiss the claims against\n",
      "them for punitive damages. (Docs. 12 & 20.) In an Order dated April 25, 2008, (Doc. 43) this\n",
      "Court denied the moving Defendants’ motions to dismiss Plaintiff’s claims in their entirety,\n",
      "but granted the moving Defendants’ motions to dismiss Plaintiffs’ claims for punitive\n",
      "damages.       As a result, Plaintiff’s negligence claims remain against all Defendants and, in\n",
      "addition, Plaintiff’s claims for punitive damages remain against Defendant Sullivant County\n",
      "Rural Electric Cooperative, Inc..\n",
      "         By Order dated August 15, 2008 (Doc 70), this Court directed all parties to submit\n",
      "memoranda of law regarding the question of whether New York or Pennsylvania substantive\n",
      "law applies in this case on or before September 12, 2008.                             Plaintiff submitted her\n",
      "memoranda         on   September       9,   2008    and    Defendant      Sullivan     County     Rural    Electric\n",
      "Cooperative submitted its memoranda on September 11, 2008. Although the deadline for\n",
      "filing memoranda has passed, no other Defendants have submitted memoranda or\n",
      "requested an extension of time in which to do so.\n",
      "         In  a diversity     action,    this Court     must    apply choice       of  law rules     provided     by\n",
      "Pennsylvania, the forum state in which the Court sits.                LeJune v. Bliss-Salem, Inc., 85 F.3d\n",
      "1069, 1071 (3d Cir. 1996).            The choice of law approach provided by the Pennsylvania\n",
      "Supreme Court encourages a review of the policies and interests implicated in the particular\n",
      "case before the Court to allow the forum state to apply the law and policy of the jurisdiction\n",
      "most closely concerned with the outcome of the pending litigation.                   Griffith v. United Airlines,\n",
      "Inc., 416 Pa. 1, 21-22 (1964).\n"
     ]
    }
   ],
   "source": [
    "print(nodes[1].text)"
   ]
  },
  {
   "cell_type": "markdown",
   "metadata": {},
   "source": [
    "# Document Summary Index"
   ]
  },
  {
   "cell_type": "code",
   "execution_count": 75,
   "metadata": {},
   "outputs": [],
   "source": [
    "from llama_index.core import SimpleDirectoryReader, get_response_synthesizer\n",
    "from llama_index.core import DocumentSummaryIndex\n",
    "from llama_index.llms.openai import OpenAI\n",
    "from llama_index.core.node_parser import SentenceSplitter\n",
    "\n",
    "# LLM (gpt-3.5-turbo)\n",
    "chatgpt = OpenAI(temperature=0, model=\"gpt-3.5-turbo\")\n",
    "splitter = SentenceSplitter(chunk_size=1024)"
   ]
  },
  {
   "cell_type": "code",
   "execution_count": 76,
   "metadata": {},
   "outputs": [
    {
     "name": "stderr",
     "output_type": "stream",
     "text": [
      "/Users/dimatimofeev/Projects/stanford-law-hackathon-2024/venv/lib/python3.12/site-packages/tqdm/auto.py:21: TqdmWarning: IProgress not found. Please update jupyter and ipywidgets. See https://ipywidgets.readthedocs.io/en/stable/user_install.html\n",
      "  from .autonotebook import tqdm as notebook_tqdm\n",
      "Parsing nodes: 100%|██████████| 11/11 [00:00<00:00, 18.79it/s]\n",
      "Summarizing documents:   0%|          | 0/11 [00:00<?, ?it/s]"
     ]
    },
    {
     "name": "stdout",
     "output_type": "stream",
     "text": [
      "current doc id: e4723477-04ff-4d35-b8b1-aa5dd7535857\n"
     ]
    },
    {
     "name": "stderr",
     "output_type": "stream",
     "text": [
      "Summarizing documents:   9%|▉         | 1/11 [00:04<00:44,  4.47s/it]"
     ]
    },
    {
     "name": "stdout",
     "output_type": "stream",
     "text": [
      "current doc id: c2ca99b1-6d12-40aa-9a36-b9cece67ffee\n"
     ]
    },
    {
     "name": "stderr",
     "output_type": "stream",
     "text": [
      "Summarizing documents:  18%|█▊        | 2/11 [00:06<00:29,  3.27s/it]"
     ]
    },
    {
     "name": "stdout",
     "output_type": "stream",
     "text": [
      "current doc id: 5661630c-914c-480a-aef6-d5ab690e6e21\n"
     ]
    },
    {
     "name": "stderr",
     "output_type": "stream",
     "text": [
      "Summarizing documents:  27%|██▋       | 3/11 [00:10<00:26,  3.26s/it]"
     ]
    },
    {
     "name": "stdout",
     "output_type": "stream",
     "text": [
      "current doc id: ac2944a0-bc41-489c-ba13-e475852cb5fe\n"
     ]
    },
    {
     "name": "stderr",
     "output_type": "stream",
     "text": [
      "Summarizing documents:  36%|███▋      | 4/11 [00:13<00:23,  3.41s/it]"
     ]
    },
    {
     "name": "stdout",
     "output_type": "stream",
     "text": [
      "current doc id: 7327f476-f3b6-43ea-a073-134d258d7253\n"
     ]
    },
    {
     "name": "stderr",
     "output_type": "stream",
     "text": [
      "Summarizing documents:  45%|████▌     | 5/11 [00:16<00:18,  3.01s/it]"
     ]
    },
    {
     "name": "stdout",
     "output_type": "stream",
     "text": [
      "current doc id: 1e8d3c90-cd3f-4c7d-b287-1bcb0173aac7\n"
     ]
    },
    {
     "name": "stderr",
     "output_type": "stream",
     "text": [
      "Summarizing documents:  55%|█████▍    | 6/11 [00:17<00:12,  2.44s/it]"
     ]
    },
    {
     "name": "stdout",
     "output_type": "stream",
     "text": [
      "current doc id: a2380557-c1f0-468e-b549-e2b445575691\n"
     ]
    },
    {
     "name": "stderr",
     "output_type": "stream",
     "text": [
      "Summarizing documents:  64%|██████▎   | 7/11 [00:20<00:10,  2.52s/it]"
     ]
    },
    {
     "name": "stdout",
     "output_type": "stream",
     "text": [
      "current doc id: a214f2a7-9dc4-4bbf-809d-9847e7b83006\n"
     ]
    },
    {
     "name": "stderr",
     "output_type": "stream",
     "text": [
      "Summarizing documents:  73%|███████▎  | 8/11 [00:23<00:08,  2.70s/it]"
     ]
    },
    {
     "name": "stdout",
     "output_type": "stream",
     "text": [
      "current doc id: 43dc8ff6-9d95-4e03-bb43-57b4259d5ccb\n"
     ]
    },
    {
     "name": "stderr",
     "output_type": "stream",
     "text": [
      "Summarizing documents:  82%|████████▏ | 9/11 [00:26<00:05,  2.83s/it]"
     ]
    },
    {
     "name": "stdout",
     "output_type": "stream",
     "text": [
      "current doc id: 048a642c-807c-41e2-adea-4ec439314eeb\n"
     ]
    },
    {
     "name": "stderr",
     "output_type": "stream",
     "text": [
      "Summarizing documents:  91%|█████████ | 10/11 [00:28<00:02,  2.73s/it]"
     ]
    },
    {
     "name": "stdout",
     "output_type": "stream",
     "text": [
      "current doc id: 4997c983-59b1-41f8-a45f-0601e68260aa\n"
     ]
    },
    {
     "name": "stderr",
     "output_type": "stream",
     "text": [
      "Summarizing documents: 100%|██████████| 11/11 [00:31<00:00,  2.87s/it]\n",
      "Generating embeddings: 100%|██████████| 11/11 [00:04<00:00,  2.64it/s]\n"
     ]
    }
   ],
   "source": [
    "response_synthesizer = get_response_synthesizer(\n",
    "    response_mode=\"tree_summarize\", use_async=True\n",
    ")\n",
    "doc_summary_index = DocumentSummaryIndex.from_documents(\n",
    "    documents,\n",
    "    llm=chatgpt,\n",
    "    transformations=[splitter],\n",
    "    response_synthesizer=response_synthesizer,\n",
    "    show_progress=True,\n",
    ")"
   ]
  },
  {
   "cell_type": "code",
   "execution_count": 77,
   "metadata": {},
   "outputs": [],
   "source": [
    "# doc_summary_index.get_document_summary(\"Boston\")"
   ]
  },
  {
   "cell_type": "code",
   "execution_count": 79,
   "metadata": {},
   "outputs": [],
   "source": [
    "from llama_index.core.indices.document_summary import (\n",
    "    DocumentSummaryIndexEmbeddingRetriever,\n",
    ")\n",
    "\n",
    "retriever = DocumentSummaryIndexEmbeddingRetriever(\n",
    "    doc_summary_index,\n",
    "    # similarity_top_k=1,\n",
    ")"
   ]
  },
  {
   "cell_type": "code",
   "execution_count": 88,
   "metadata": {},
   "outputs": [],
   "source": [
    "retrieved_nodes = retriever.retrieve(\"Who has been sued in California?\")"
   ]
  },
  {
   "cell_type": "code",
   "execution_count": 95,
   "metadata": {},
   "outputs": [],
   "source": [
    "node = retrieved_nodes[0]"
   ]
  },
  {
   "cell_type": "code",
   "execution_count": 101,
   "metadata": {},
   "outputs": [
    {
     "data": {
      "text/plain": [
       "'gov.uscourts.cand.190473.14.0.pdf'"
      ]
     },
     "execution_count": 101,
     "metadata": {},
     "output_type": "execute_result"
    }
   ],
   "source": [
    "node.metadata[\"file_name\"]"
   ]
  },
  {
   "cell_type": "code",
   "execution_count": null,
   "metadata": {},
   "outputs": [],
   "source": []
  }
 ],
 "metadata": {
  "kernelspec": {
   "display_name": "venv",
   "language": "python",
   "name": "python3"
  },
  "language_info": {
   "codemirror_mode": {
    "name": "ipython",
    "version": 3
   },
   "file_extension": ".py",
   "mimetype": "text/x-python",
   "name": "python",
   "nbconvert_exporter": "python",
   "pygments_lexer": "ipython3",
   "version": "3.12.2"
  }
 },
 "nbformat": 4,
 "nbformat_minor": 2
}
