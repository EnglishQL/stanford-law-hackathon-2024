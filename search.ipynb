{
 "cells": [
  {
   "cell_type": "markdown",
   "metadata": {},
   "source": [
    "# Llama-Index Setup"
   ]
  },
  {
   "cell_type": "code",
   "execution_count": 60,
   "metadata": {},
   "outputs": [],
   "source": [
    "import os\n",
    "import pickle\n",
    "\n",
    "from llama_index.llms.openai import OpenAI\n",
    "from llama_index.embeddings.openai import OpenAIEmbedding\n",
    "from llama_index.core.query_engine import CitationQueryEngine\n",
    "from llama_index.core import (\n",
    "    SimpleDirectoryReader,\n",
    "    VectorStoreIndex,\n",
    "    StorageContext,\n",
    "    load_index_from_storage,\n",
    ")\n",
    "from llama_index.core import Settings\n",
    "from dotenv import load_dotenv\n",
    "from llama_parse import LlamaParse\n",
    "import nest_asyncio\n",
    "\n",
    "embed_model = OpenAIEmbedding(model=\"text-embedding-3-small\")\n",
    "llm = OpenAI(model=\"gpt-3.5-turbo-0125\")\n",
    "\n",
    "Settings.llm = llm\n",
    "Settings.embed_model = embed_model"
   ]
  },
  {
   "cell_type": "markdown",
   "metadata": {},
   "source": [
    "# Read Data"
   ]
  },
  {
   "cell_type": "code",
   "execution_count": 3,
   "metadata": {},
   "outputs": [],
   "source": [
    "load_dotenv()\n",
    "nest_asyncio.apply()"
   ]
  },
  {
   "cell_type": "code",
   "execution_count": 23,
   "metadata": {},
   "outputs": [
    {
     "name": "stdout",
     "output_type": "stream",
     "text": [
      "Parsing documents\n",
      "Started parsing the file under job_id bc717ac5-542b-4e06-baf9-41e363548a0e\n",
      "Started parsing the file under job_id 094d1094-fc6b-46e9-9047-df612c9793d1\n",
      "Started parsing the file under job_id 16bee0f8-c980-438d-8941-7be1d5bc7965\n",
      "Started parsing the file under job_id 16ed8372-31ca-49f7-b9b3-5633787ed16e\n",
      "Started parsing the file under job_id ef8bf9c6-e69f-4029-8a3f-ae1f09d65d0a\n",
      "Started parsing the file under job_id 5de8d21a-9f32-4003-8a35-ec7b06c5e6a3\n",
      "Started parsing the file under job_id 8c51f3b3-9590-4424-a6c8-b04198220cf0\n",
      "Started parsing the file under job_id 33730a5c-7505-46c5-8d8f-933d96f392f1\n",
      "Started parsing the file under job_id 92fce70a-8975-4a61-bb81-9d46d326a4f0\n",
      "Started parsing the file under job_id 09d3e2ba-54da-4b80-a208-8287cb3f956a\n",
      "Started parsing the file under job_id 7acc4c6c-e41f-4da6-9f14-3d72a71eadf3\n"
     ]
    }
   ],
   "source": [
    "LLAMA_CLOUD_API_KEY = os.getenv(\"LLAMA_CLOUD_API_KEY\")\n",
    "\n",
    "# Do not parse twice. Check if the file is already parsed\n",
    "documents = None\n",
    "if not os.path.exists(\"./parsed-objects/documents.pickle\"):\n",
    "    print(\"Parsing documents\")\n",
    "    parser = LlamaParse(\n",
    "        api_key=LLAMA_CLOUD_API_KEY,\n",
    "        result_type=\"text\",\n",
    "        verbose=True,\n",
    "    )\n",
    "\n",
    "    file_extractor = {\".pdf\": parser}\n",
    "    documents = SimpleDirectoryReader(\n",
    "        \"./data\", file_extractor=file_extractor\n",
    "    ).load_data()\n",
    "    with open(\"./parsed-objects/documents.pickle\", \"wb\") as f:\n",
    "        pickle.dump(documents, f)\n",
    "else:\n",
    "    print(\"Loading parsed documents from pickle\")\n",
    "    with open(\"./parsed-objects/documents.pickle\", \"rb\") as f:\n",
    "        documents = pickle.load(f)\n",
    "\n",
    "assert documents is not None, \"Documents are not loaded\""
   ]
  },
  {
   "cell_type": "code",
   "execution_count": 81,
   "metadata": {},
   "outputs": [
    {
     "name": "stdout",
     "output_type": "stream",
     "text": [
      "Loading index from storage\n"
     ]
    }
   ],
   "source": [
    "if not os.path.exists(\"./citation\"):\n",
    "    print(\"Building index\")\n",
    "    index = VectorStoreIndex.from_documents(documents)\n",
    "    index.storage_context.persist(persist_dir=\"./citation\")\n",
    "else:\n",
    "    print(\"Loading index from storage\")\n",
    "    index = load_index_from_storage(\n",
    "        StorageContext.from_defaults(persist_dir=\"./citation\")\n",
    "    )"
   ]
  },
  {
   "cell_type": "code",
   "execution_count": 69,
   "metadata": {},
   "outputs": [],
   "source": [
    "query_engine = CitationQueryEngine.from_args(\n",
    "    index,\n",
    "    similarity_top_k=10,\n",
    "    citation_chunk_size=1024,\n",
    ")\n",
    "# retriever = index.as_retriever()"
   ]
  },
  {
   "cell_type": "code",
   "execution_count": 66,
   "metadata": {},
   "outputs": [],
   "source": [
    "nodes = retriever.retrieve(\"What is Joel M. Shafferman billing rate?\")"
   ]
  },
  {
   "cell_type": "markdown",
   "metadata": {},
   "source": [
    "# Document Summary Index"
   ]
  },
  {
   "cell_type": "code",
   "execution_count": 79,
   "metadata": {},
   "outputs": [],
   "source": [
    "from llama_index.core import SimpleDirectoryReader, get_response_synthesizer\n",
    "from llama_index.core import DocumentSummaryIndex\n",
    "from llama_index.llms.openai import OpenAI\n",
    "from llama_index.core.node_parser import SentenceSplitter\n",
    "\n",
    "# LLM (gpt-3.5-turbo)\n",
    "chatgpt = OpenAI(temperature=0, model=\"gpt-3.5-turbo\")\n",
    "splitter = SentenceSplitter(chunk_size=1024)"
   ]
  },
  {
   "cell_type": "code",
   "execution_count": 80,
   "metadata": {},
   "outputs": [
    {
     "ename": "NameError",
     "evalue": "name 'documents' is not defined",
     "output_type": "error",
     "traceback": [
      "\u001b[0;31m---------------------------------------------------------------------------\u001b[0m",
      "\u001b[0;31mNameError\u001b[0m                                 Traceback (most recent call last)",
      "Cell \u001b[0;32mIn[80], line 5\u001b[0m\n\u001b[1;32m      1\u001b[0m response_synthesizer \u001b[38;5;241m=\u001b[39m get_response_synthesizer(\n\u001b[1;32m      2\u001b[0m     response_mode\u001b[38;5;241m=\u001b[39m\u001b[38;5;124m\"\u001b[39m\u001b[38;5;124mtree_summarize\u001b[39m\u001b[38;5;124m\"\u001b[39m, use_async\u001b[38;5;241m=\u001b[39m\u001b[38;5;28;01mTrue\u001b[39;00m\n\u001b[1;32m      3\u001b[0m )\n\u001b[1;32m      4\u001b[0m doc_summary_index \u001b[38;5;241m=\u001b[39m DocumentSummaryIndex\u001b[38;5;241m.\u001b[39mfrom_documents(\n\u001b[0;32m----> 5\u001b[0m     \u001b[43mdocuments\u001b[49m,\n\u001b[1;32m      6\u001b[0m     llm\u001b[38;5;241m=\u001b[39mchatgpt,\n\u001b[1;32m      7\u001b[0m     transformations\u001b[38;5;241m=\u001b[39m[splitter],\n\u001b[1;32m      8\u001b[0m     response_synthesizer\u001b[38;5;241m=\u001b[39mresponse_synthesizer,\n\u001b[1;32m      9\u001b[0m     show_progress\u001b[38;5;241m=\u001b[39m\u001b[38;5;28;01mTrue\u001b[39;00m,\n\u001b[1;32m     10\u001b[0m )\n",
      "\u001b[0;31mNameError\u001b[0m: name 'documents' is not defined"
     ]
    }
   ],
   "source": [
    "response_synthesizer = get_response_synthesizer(\n",
    "    response_mode=\"tree_summarize\", use_async=True\n",
    ")\n",
    "doc_summary_index = DocumentSummaryIndex.from_documents(\n",
    "    documents,\n",
    "    llm=chatgpt,\n",
    "    transformations=[splitter],\n",
    "    response_synthesizer=response_synthesizer,\n",
    "    show_progress=True,\n",
    ")"
   ]
  },
  {
   "cell_type": "code",
   "execution_count": 77,
   "metadata": {},
   "outputs": [],
   "source": [
    "# doc_summary_index.get_document_summary(\"Boston\")"
   ]
  },
  {
   "cell_type": "code",
   "execution_count": 82,
   "metadata": {},
   "outputs": [],
   "source": [
    "from llama_index.core.indices.document_summary import (\n",
    "    DocumentSummaryIndexEmbeddingRetriever,\n",
    ")\n",
    "\n",
    "retriever = DocumentSummaryIndexEmbeddingRetriever(\n",
    "    index,\n",
    "    similarity_top_k=3,\n",
    ")"
   ]
  },
  {
   "cell_type": "code",
   "execution_count": 83,
   "metadata": {},
   "outputs": [],
   "source": [
    "# retriever = index.as_retriever()"
   ]
  },
  {
   "cell_type": "code",
   "execution_count": 85,
   "metadata": {},
   "outputs": [],
   "source": [
    "response = retriever.retrieve(\"loan case\")"
   ]
  },
  {
   "cell_type": "code",
   "execution_count": 86,
   "metadata": {},
   "outputs": [
    {
     "name": "stdout",
     "output_type": "stream",
     "text": [
      "12.       The Debtor’s estimated operating expenses, exclusive of debt service, for\n",
      "the thirty (30) days following the commencement of this Chapter 11 case is approximately\n",
      "$43,000.           13.       The Debtor’s operations, exclusive of debt service, for the period of thirty\n",
      "(30) days following the commencement of this Chapter 11 case are expected to break even or\n",
      "operate at a slight gain.\n",
      "                   14.       The Debtor has operated from its leased space at 40 Broad Street, New\n",
      "York, New York Retail #2, New York, New York 10004 since January 1 2014. The Debtor\n",
      "leases those premises from 40 Broad Associates at a monthly rent of $37,500 under a lease that is\n",
      "the subject of pending litigation in the Supreme Court of the State of New York and the New\n",
      "York Supreme Court, Appellate Term, First Department.\n",
      "                                                             2\n",
      "---\n",
      "15-10618-reg           Doc 2       Filed 03/16/15         Entered 03/16/15 19:49:06                Main Document\n",
      "                                                         Pg 3 of 4\n",
      "                    15.      The filing of the within petition was precipitated by a dispute with its\n",
      " landlord resulting in the following legal proceedings: (1) World Bitcoin Association LLC v. 40\n",
      " Broad Associates No. 2 LLC, pending in the Supreme Court of the State of New York, New\n",
      " York County (Index No.159628/2014); and 40 Broad Associates No. 2 LLC v. World Bitcoin\n",
      " Association LLC currently pending in the New York Supreme Court Appellate Term, First\n",
      " Department    a .  16.      The purpose of filing this petition is to preserve the assets of the Debtor\n",
      " for the benefit of the creditors and equity holders, and to preserve priorities of creditors, and\n",
      " rehabilitate the business.\n",
      "                    17.      The Debtor’s senior management consists of me.\n",
      "                    18.      The estimated amount of payroll due to the Debtor’s employees, exclusive\n",
      " of officers, for a period of thirty days following the filing of the petition is $00.00. The pays\n",
      " independent contractors rather than employees\n",
      "                    19.      There no salaries are currently being paid by the Debtor to its officers.\n",
      "                    20.      The estimated revenues and additional operating expense of the Debtor for\n",
      " the next thirty days are as follows:\n",
      "                             INCOME                                $39,300\n",
      "                             EXPENSES                               $43,000\n",
      " aThis action was initially commenced in the Civil Court of the City of New York, County of New York. (Index No.\n",
      " 81171/2014                                                   3\n",
      "---\n",
      "15-10618-reg          Doc 2      Filed 03/16/15        Entered 03/16/15 19:49:06              Main Document\n",
      "                                                      Pg 4 of 4\n",
      "                   21.      The Debtor has made no public offering of its securities and no securities\n",
      " issued by the Debtor are publicly held.\n",
      " Sworn to before me this\n",
      "  16th    day of March, 2015\n",
      " /S/ Joel Shafferman\n",
      "  Joel Shafferman\n",
      "                                                                   /S/ Nikolaos Spanos_____ __________\n",
      "                                                                Nikolaos Spanos, as Managing Member\n",
      "                                                                of Prometheus Equities LLC, the sole\n",
      "                                                                Member of the Debtor.\n",
      "                                                           4\n"
     ]
    }
   ],
   "source": [
    "print(response[2].text)"
   ]
  },
  {
   "cell_type": "code",
   "execution_count": null,
   "metadata": {},
   "outputs": [],
   "source": []
  }
 ],
 "metadata": {
  "kernelspec": {
   "display_name": "venv",
   "language": "python",
   "name": "python3"
  },
  "language_info": {
   "codemirror_mode": {
    "name": "ipython",
    "version": 3
   },
   "file_extension": ".py",
   "mimetype": "text/x-python",
   "name": "python",
   "nbconvert_exporter": "python",
   "pygments_lexer": "ipython3",
   "version": "3.12.2"
  }
 },
 "nbformat": 4,
 "nbformat_minor": 2
}
