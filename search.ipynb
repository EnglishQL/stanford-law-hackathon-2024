{
 "cells": [
  {
   "cell_type": "markdown",
   "metadata": {},
   "source": [
    "# Llama-Index Setup"
   ]
  },
  {
   "cell_type": "code",
   "execution_count": 6,
   "metadata": {},
   "outputs": [],
   "source": [
    "import os\n",
    "import pickle\n",
    "\n",
    "from llama_index.llms.openai import OpenAI\n",
    "from llama_index.embeddings.openai import OpenAIEmbedding\n",
    "from llama_index.core.query_engine import CitationQueryEngine\n",
    "from llama_index.core import (\n",
    "    SimpleDirectoryReader,\n",
    "    VectorStoreIndex,\n",
    "    StorageContext,\n",
    "    load_index_from_storage,\n",
    ")\n",
    "from llama_index.core import Settings\n",
    "from dotenv import load_dotenv\n",
    "from llama_parse import LlamaParse\n",
    "import nest_asyncio\n",
    "from llama_index.core.node_parser import SentenceSplitter\n",
    "\n",
    "embed_model = OpenAIEmbedding(model=\"text-embedding-3-small\")\n",
    "llm = OpenAI(model=\"gpt-3.5-turbo-0125\")\n",
    "\n",
    "Settings.llm = llm\n",
    "Settings.embed_model = embed_model"
   ]
  },
  {
   "cell_type": "markdown",
   "metadata": {},
   "source": [
    "# Read Data"
   ]
  },
  {
   "cell_type": "code",
   "execution_count": 2,
   "metadata": {},
   "outputs": [],
   "source": [
    "load_dotenv()\n",
    "nest_asyncio.apply()"
   ]
  },
  {
   "cell_type": "code",
   "execution_count": 3,
   "metadata": {},
   "outputs": [
    {
     "name": "stdout",
     "output_type": "stream",
     "text": [
      "Loading parsed documents from pickle\n"
     ]
    }
   ],
   "source": [
    "LLAMA_CLOUD_API_KEY = os.getenv(\"LLAMA_CLOUD_API_KEY\")\n",
    "\n",
    "# Do not parse twice. Check if the file is already parsed\n",
    "documents = None\n",
    "if not os.path.exists(\"./parsed-objects/documents.pickle\"):\n",
    "    print(\"Parsing documents\")\n",
    "    parser = LlamaParse(\n",
    "        api_key=LLAMA_CLOUD_API_KEY,\n",
    "        result_type=\"text\",\n",
    "        verbose=True,\n",
    "    )\n",
    "\n",
    "    file_extractor = {\".pdf\": parser}\n",
    "    documents = SimpleDirectoryReader(\n",
    "        \"./data\", file_extractor=file_extractor\n",
    "    ).load_data()\n",
    "    with open(\"./parsed-objects/documents.pickle\", \"wb\") as f:\n",
    "        pickle.dump(documents, f)\n",
    "else:\n",
    "    print(\"Loading parsed documents from pickle\")\n",
    "    with open(\"./parsed-objects/documents.pickle\", \"rb\") as f:\n",
    "        documents = pickle.load(f)\n",
    "\n",
    "assert documents is not None, \"Documents are not loaded\""
   ]
  },
  {
   "cell_type": "code",
   "execution_count": null,
   "metadata": {
    "scrolled": true
   },
   "outputs": [],
   "source": [
    "if not os.path.exists(\"./citation\"):\n",
    "    print(\"Building index\")\n",
    "    index = VectorStoreIndex.from_documents(documents,\n",
    "    transformations=[SentenceSplitter(chunk_size=512, chunk_overlap=20)],)\n",
    "    index.storage_context.persist(persist_dir=\"./citation\")\n",
    "else:\n",
    "    print(\"Loading index from storage\")\n",
    "    index = load_index_from_storage(\n",
    "        StorageContext.from_defaults(persist_dir=\"./citation\")\n",
    "    )"
   ]
  },
  {
   "cell_type": "code",
   "execution_count": 7,
   "metadata": {},
   "outputs": [],
   "source": [
    "query_engine = CitationQueryEngine.from_args(\n",
    "    index,\n",
    "    similarity_top_k=3,\n",
    "    # here we can control how granular citation sources are, the default is 512\n",
    "    citation_chunk_size=512,\n",
    ")"
   ]
  },
  {
   "cell_type": "code",
   "execution_count": 8,
   "metadata": {},
   "outputs": [],
   "source": [
    "response = query_engine.query(\"What strike policy was used?\")"
   ]
  },
  {
   "cell_type": "code",
   "execution_count": 13,
   "metadata": {},
   "outputs": [
    {
     "name": "stdout",
     "output_type": "stream",
     "text": [
      "Source 1:\n",
      "Mar. 27, 2006) (no\n",
      "appeal);    Riches v. Bureau of Prisons, et al., 6:06cv194-MBS-WMC (D.C. S.C. Mar. 20, 2006)\n",
      "(no appeal);     Riches v. Vick, et al., 1:07cv1858-WBH (N.D. Ga. Aug. 16, 2007) (appeal dismissed\n",
      "for want of prosecution).          See also Riches v. Holy Land Foundation for Relief and Development,\n",
      "          1         The U.S. Party Case Index reflects Plaintiff filed a total of seventy-one prisoner\n",
      "and non-prisoner actions.                                       2\n",
      "---\n",
      "et al., 3:07cv1626-P (N.D. Tex.) (magistrate judge’s findings and conclusions recommending\n",
      "denial of    in forma pauperis        status under 28 U.S.C. § 1915(g) filed October 3, 2007).\n",
      "          Applying the three-strike provision to Plaintiff’s prior                 in forma pauperis        actions, it is\n",
      "clear that he has accrued at least three “strikes” under § 1915(g).                     See Adepegba v. Hammons,\n",
      "103 F.3d 383, 387-88 (5th Cir. 1996);              see also    Jackson v. Johnson, 475 F.3d 261, 265 (5th Cir.\n",
      "2007);    Patton v. Jefferson Correctional Ctr., 136 F.3d 458, 462 (5th Cir. 1998). Because\n",
      "Plaintiff has accumulated three “strikes,” § 1915(g) precludes him from proceeding in this action\n",
      "in forma pauperis        unless he alleges a claim of “imminent danger of serious physical injury” at\n",
      "the time he files the complaint.           Banos v. O’Guin, 144 F.3d 883, 884 (5th Cir. 1998). The\n",
      "complaint presents no possible claim that Plaintiff is in danger of any physical injury.                            See\n",
      "Carson v. Johnson, 112 F.3d 818, 822-823 (5th Cir. 1997);                       Adepegba v. Hammons, 103 F.3d\n",
      "383, 388 (5th Cir.\n",
      "\n"
     ]
    }
   ],
   "source": [
    "print(response.source_nodes[0].node.get_text())"
   ]
  },
  {
   "cell_type": "code",
   "execution_count": null,
   "metadata": {},
   "outputs": [],
   "source": []
  }
 ],
 "metadata": {
  "kernelspec": {
   "display_name": "venv",
   "language": "python",
   "name": "python3"
  },
  "language_info": {
   "codemirror_mode": {
    "name": "ipython",
    "version": 3
   },
   "file_extension": ".py",
   "mimetype": "text/x-python",
   "name": "python",
   "nbconvert_exporter": "python",
   "pygments_lexer": "ipython3",
   "version": "3.12.2"
  }
 },
 "nbformat": 4,
 "nbformat_minor": 2
}
